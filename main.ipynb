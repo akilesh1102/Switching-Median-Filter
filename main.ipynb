{
 "cells": [
  {
   "cell_type": "code",
   "execution_count": 22,
   "metadata": {},
   "outputs": [
    {
     "name": "stdout",
     "output_type": "stream",
     "text": [
      "{'name': 'Akil', 'age': 21, 'programmer': True}\n",
      "[5, 7, 9]\n"
     ]
    }
   ],
   "source": [
    "#comprehension\n",
    "my_dict = dict(zip(['name', 'age', 'programmer'], ['Akil', 21, True]))\n",
    "print(my_dict)\n",
    "\n",
    "my_list = list(sum(p) for p in zip([1,2,3],[4,5,6]))\n",
    "print(my_list)"
   ]
  },
  {
   "cell_type": "code",
   "execution_count": null,
   "metadata": {},
   "outputs": [],
   "source": [
    "#collections - counter\n",
    "from collections import Counter\n",
    "colors = ['black', 'black', 'black', 'black','blue','white']\n",
    "count = Counter(colors)\n",
    "print(count)\n",
    "print(count.most_common()[0])"
   ]
  },
  {
   "cell_type": "code",
   "execution_count": null,
   "metadata": {},
   "outputs": [],
   "source": [
    "some_list = ['a','b','a','b','a','c']\n",
    "some_list.sort()\n",
    "length = len(some_list)\n",
    "for i in range(0,length):\n",
    "    for j in range(i+1,length):\n",
    "        if some_list[i] == some_list[j]:\n",
    "            some_list[j] = 0\n",
    "\n",
    "result = [i for i in some_list if i != 0]\n",
    "r = ' '.join(result)\n",
    "print(f'The repeated elements in the list are : {r}')\n",
    "            "
   ]
  },
  {
   "cell_type": "code",
   "execution_count": 38,
   "metadata": {},
   "outputs": [
    {
     "name": "stdout",
     "output_type": "stream",
     "text": [
      "The non repeated elements in the list are : c\n"
     ]
    }
   ],
   "source": [
    "def findDuplicates(listt):\n",
    "    duplicates = []\n",
    "    [duplicates.append(i) for i in listt if listt.count(i) == 1 and i not in duplicates]\n",
    "    return ','.join(duplicates)\n",
    "\n",
    "some_list = ['a','b','a','b','a','c']\n",
    "print(f'The non repeated elements in the list are : {findDuplicates(some_list)}')\n"
   ]
  },
  {
   "cell_type": "code",
   "execution_count": 29,
   "metadata": {},
   "outputs": [
    {
     "name": "stdout",
     "output_type": "stream",
     "text": [
      "Hii Akilesh 🧑🏼‍💻 !!\n",
      "Hii Akil 😍 !!\n",
      "Hii AK 🏎️ !!\n"
     ]
    }
   ],
   "source": [
    "def sayHello(name = \"Akil\",emoji = \"😍\"): #default parameters\n",
    "    print(f'Hii {name} {emoji} !!')\n",
    "sayHello(emoji='🧑🏼‍💻' , name = \"Akilesh\") #keyword arguments\n",
    "sayHello()\n",
    "sayHello('AK',  ' 🏎️ ') #positional arguments"
   ]
  },
  {
   "cell_type": "code",
   "execution_count": 35,
   "metadata": {},
   "outputs": [
    {
     "name": "stdout",
     "output_type": "stream",
     "text": [
      " Info: tesing func \n"
     ]
    }
   ],
   "source": [
    "#docstrings\n",
    "def test(a):\n",
    "    ''' Info: tesing func '''\n",
    "    print(a)\n",
    "#help(test)\n",
    "print(test.__doc__)"
   ]
  },
  {
   "cell_type": "code",
   "execution_count": null,
   "metadata": {},
   "outputs": [],
   "source": [
    "#*args **kwargs\n",
    "def super_func(*args, **kwargs):\n",
    "    print(*args)\n",
    "    print(args)\n",
    "    print(kwargs)\n",
    "    return sum(args) + sum (kwargs.values())\n",
    "\n",
    "super_func(1,2,3,4,5,a=1,b=2,c=2)\n",
    "\n",
    "#rule : parameterss,*args,def param , **kwargs"
   ]
  },
  {
   "cell_type": "code",
   "execution_count": null,
   "metadata": {},
   "outputs": [],
   "source": [
    "def highest_even(listt):\n",
    "   return max([i for i in listt if i%2==0 ])\n",
    "\n",
    "print(highest_even([10,2,3,4,8,11,100]))"
   ]
  },
  {
   "cell_type": "code",
   "execution_count": 58,
   "metadata": {},
   "outputs": [
    {
     "name": "stdout",
     "output_type": "stream",
     "text": [
      "Your password length is 8 which is less than 10. Enter a strong password\n"
     ]
    }
   ],
   "source": [
    "#new feature in py3 - walrus operator :=\n",
    "#assigns values to the expression as a part of larger expression\n",
    "\n",
    "pw = \"password\"\n",
    "if (l := len(pw) ) < 10:\n",
    "    print(f'Your password length is {l} which is less than 10. Enter a strong password')\n",
    "else:\n",
    "    print('Your password is strong')"
   ]
  },
  {
   "cell_type": "code",
   "execution_count": 56,
   "metadata": {},
   "outputs": [
    {
     "name": "stdout",
     "output_type": "stream",
     "text": [
      "32\n"
     ]
    }
   ],
   "source": [
    "#oop\n",
    "class PlayerChar:\n",
    "    \n",
    "    \n",
    "    membership = True #class obj attribute . It is static \n",
    "    def __init__(self ,name,age):\n",
    "        self._name = name\n",
    "        self._age= age\n",
    "        \n",
    "    def charIntro(self):\n",
    "        print(f'Myself {self._name}!! I am {self._age} years old.')      \n",
    "    \n",
    "    def run(self):\n",
    "        return \"🏃🏼🏃🏼🏃🏼\"\n",
    "\n",
    "   \n",
    "p1 =PlayerChar(\"Akil\",20)\n",
    "p2= PlayerChar(\"Bale\",28)\n"
   ]
  },
  {
   "cell_type": "code",
   "execution_count": null,
   "metadata": {},
   "outputs": [],
   "source": [
    "#inheritance\n",
    "class User:\n",
    "    \n",
    "    def sign_in(self):\n",
    "        print(\"Logged in ✅\")\n",
    "    \n",
    "    def __init__(self, name, power):\n",
    "        self.name = name\n",
    "        self.power = power\n",
    "     \n",
    "    \n",
    "    def attack(self):\n",
    "        print(f'Attacks with {self.power}')\n",
    "\n",
    "\n",
    "class Wizard (User):\n",
    "    def example(self):\n",
    "        print(\"Dr.Strange , Wanda , Supreme Strange\")\n",
    "   \n",
    "    \n",
    "class Archer (User):\n",
    "    def example(self):\n",
    "        print('Clint')\n",
    "\n",
    "   \n",
    "w = Wizard('Strange','Dark Magic')\n",
    "a = Archer('Robin' ,'Arrow')\n",
    "w.example()\n",
    "w.attack()\n",
    "a.attack()\n",
    "a.example()\n",
    "print(isinstance (w,Wizard) , isinstance(w,User))"
   ]
  },
  {
   "cell_type": "code",
   "execution_count": 38,
   "metadata": {},
   "outputs": [
    {
     "name": "stdout",
     "output_type": "stream",
     "text": [
      "[3, 4, 5, 6, 7]\n"
     ]
    }
   ],
   "source": [
    "# map\n",
    "my_list = [1,2,3,4,5]\n",
    "print(list(map(lambda x: x+2,my_list)))"
   ]
  },
  {
   "cell_type": "code",
   "execution_count": 42,
   "metadata": {},
   "outputs": [
    {
     "name": "stdout",
     "output_type": "stream",
     "text": [
      "[2, 4]\n"
     ]
    }
   ],
   "source": [
    "#filter\n",
    "my_list = [1,2,3,4,5]\n",
    "print(list(filter(lambda x:x%2==0 , my_list)))"
   ]
  },
  {
   "cell_type": "code",
   "execution_count": 70,
   "metadata": {},
   "outputs": [
    {
     "name": "stdout",
     "output_type": "stream",
     "text": [
      "15\n",
      "15\n"
     ]
    }
   ],
   "source": [
    "#reduce\n",
    "from functools import reduce\n",
    "l = [1,2,3,4,5]\n",
    "print(reduce(lambda a,b:a+b,l))\n",
    "print(int(len(l) * ((len(l)+1) / 2)))"
   ]
  },
  {
   "cell_type": "code",
   "execution_count": 73,
   "metadata": {},
   "outputs": [
    {
     "name": "stdout",
     "output_type": "stream",
     "text": [
      "[25, 16, 9]\n"
     ]
    }
   ],
   "source": [
    "print(list(map(lambda x:x**2,[5,4,3])))"
   ]
  },
  {
   "cell_type": "code",
   "execution_count": 80,
   "metadata": {},
   "outputs": [
    {
     "name": "stdout",
     "output_type": "stream",
     "text": [
      "-1 2 3 9\n"
     ]
    }
   ],
   "source": [
    "a = [(0,2) , (4,3) , (9,9) , (10,-1)]\n",
    "print(*((sorted(list(map(lambda x:x[1],a))))))"
   ]
  },
  {
   "cell_type": "code",
   "execution_count": null,
   "metadata": {},
   "outputs": [],
   "source": [
    "#exceptions\n",
    "while  True:\n",
    "    try:\n",
    "        age = int(input(\"Enter your age : \"))\n",
    "        print(age)\n",
    "    except ValueError:\n",
    "        print(\"Age should be an integer value\")\n",
    "    else:\n",
    "        break"
   ]
  },
  {
   "cell_type": "code",
   "execution_count": null,
   "metadata": {},
   "outputs": [],
   "source": [
    "#generators\n",
    "def fibonacci(num):\n",
    "    a,b,sum = 0,1,1\n",
    "    for _ in range(num):\n",
    "        yield a\n",
    "        a,b = b,sum\n",
    "        sum = a+b\n",
    "    return sum\n",
    "\n",
    "for x in fibonacci(21):\n",
    "    print(x)"
   ]
  },
  {
   "cell_type": "code",
   "execution_count": null,
   "metadata": {},
   "outputs": [],
   "source": [
    "# decorators\n",
    "class PlayerChar:\n",
    "\n",
    "    membership = True  # class obj attribute . It is static\n",
    "\n",
    "    def __init__(self, name, age):\n",
    "        self._name = name\n",
    "        self._age = age\n",
    "\n",
    "    def charIntro(self):\n",
    "        print(f'Myself {self._name}!! I am {self._age} years old.')\n",
    "\n",
    "    def run(self):\n",
    "        return \"🏃🏼🏃🏼🏃🏼\"\n",
    "\n",
    "    @classmethod\n",
    "    def neww(cls, a1, a2):\n",
    "        return cls('Bane', a1+a2)\n",
    "\n",
    "    @staticmethod\n",
    "    # when we dont care about attributes\n",
    "    def newww(a1, a2):\n",
    "        return ('Gordon', a1+a2)\n",
    "\n",
    "\n",
    "p1 = PlayerChar(\"Akil\", 20)\n",
    "p2 = PlayerChar(\"Bale\", 28)\n"
   ]
  },
  {
   "cell_type": "code",
   "execution_count": null,
   "metadata": {},
   "outputs": [],
   "source": [
    "  "
   ]
  }
 ],
 "metadata": {
  "interpreter": {
   "hash": "9bf2ca0f4a7adc3ce2f237ca763c1538d3ef289a4e7face3612a01cdae9f6807"
  },
  "kernelspec": {
   "display_name": "Python 3.10.1 64-bit",
   "language": "python",
   "name": "python3"
  },
  "language_info": {
   "codemirror_mode": {
    "name": "ipython",
    "version": 3
   },
   "file_extension": ".py",
   "mimetype": "text/x-python",
   "name": "python",
   "nbconvert_exporter": "python",
   "pygments_lexer": "ipython3",
   "version": "3.10.1"
  },
  "orig_nbformat": 4
 },
 "nbformat": 4,
 "nbformat_minor": 2
}
